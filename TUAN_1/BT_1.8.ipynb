{
 "cells": [
  {
   "cell_type": "code",
   "execution_count": null,
   "id": "ea6aa483",
   "metadata": {},
   "outputs": [],
   "source": [
    "from skimage.filters import threshold_local\n",
    "from skimage.filters import threshold_otsu\n",
    "import matplotlib.pyplot as plt\n",
    "from skimage import io, color\n",
    "def show_image(image, title='Image', cmap_type='gray'):\n",
    " plt.imshow(image, cmap=cmap_type)\n",
    " plt.title(title)\n",
    " plt.axis('off')\n",
    " plt.show()\n",
    "image = plt.imread('C:\\\\Users\\\\PC\\\\TT_XLA\\\\anh_mau.jpg')\n",
    "gray_image = color.rgb2gray(image)\n",
    "global_thresh = threshold_otsu(gray_image)\n"
   ]
  }
 ],
 "metadata": {
  "kernelspec": {
   "display_name": "Python 3 (ipykernel)",
   "language": "python",
   "name": "python3"
  },
  "language_info": {
   "codemirror_mode": {
    "name": "ipython",
    "version": 3
   },
   "file_extension": ".py",
   "mimetype": "text/x-python",
   "name": "python",
   "nbconvert_exporter": "python",
   "pygments_lexer": "ipython3",
   "version": "3.10.9"
  }
 },
 "nbformat": 4,
 "nbformat_minor": 5
}
